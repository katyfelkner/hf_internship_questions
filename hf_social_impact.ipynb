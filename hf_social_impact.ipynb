{
 "cells": [
  {
   "cell_type": "code",
   "execution_count": 15,
   "id": "f496cbc4",
   "metadata": {},
   "outputs": [],
   "source": [
    "import datasets\n",
    "from transformers import AutoModelForMaskedLM, AutoTokenizer, pipeline"
   ]
  },
  {
   "cell_type": "code",
   "execution_count": 5,
   "id": "5c29034f",
   "metadata": {},
   "outputs": [
    {
     "name": "stdout",
     "output_type": "stream",
     "text": [
      "Downloading and preparing dataset wikitext/wikitext-2-raw-v1 to /Users/felkner/.cache/huggingface/datasets/wikitext/wikitext-2-raw-v1/1.0.0/a241db52902eaf2c6aa732210bead40c090019a499ceb13bcbfa3f8ab646a126...\n"
     ]
    },
    {
     "data": {
      "application/vnd.jupyter.widget-view+json": {
       "model_id": "d328d5fcfa9c4f6ca09dd7601de37492",
       "version_major": 2,
       "version_minor": 0
      },
      "text/plain": [
       "Downloading data:   0%|          | 0.00/4.72M [00:00<?, ?B/s]"
      ]
     },
     "metadata": {},
     "output_type": "display_data"
    },
    {
     "data": {
      "application/vnd.jupyter.widget-view+json": {
       "model_id": "",
       "version_major": 2,
       "version_minor": 0
      },
      "text/plain": [
       "Generating test split:   0%|          | 0/4358 [00:00<?, ? examples/s]"
      ]
     },
     "metadata": {},
     "output_type": "display_data"
    },
    {
     "data": {
      "application/vnd.jupyter.widget-view+json": {
       "model_id": "",
       "version_major": 2,
       "version_minor": 0
      },
      "text/plain": [
       "Generating train split:   0%|          | 0/36718 [00:00<?, ? examples/s]"
      ]
     },
     "metadata": {},
     "output_type": "display_data"
    },
    {
     "data": {
      "application/vnd.jupyter.widget-view+json": {
       "model_id": "",
       "version_major": 2,
       "version_minor": 0
      },
      "text/plain": [
       "Generating validation split:   0%|          | 0/3760 [00:00<?, ? examples/s]"
      ]
     },
     "metadata": {},
     "output_type": "display_data"
    },
    {
     "name": "stdout",
     "output_type": "stream",
     "text": [
      "Dataset wikitext downloaded and prepared to /Users/felkner/.cache/huggingface/datasets/wikitext/wikitext-2-raw-v1/1.0.0/a241db52902eaf2c6aa732210bead40c090019a499ceb13bcbfa3f8ab646a126. Subsequent calls will reuse this data.\n"
     ]
    },
    {
     "data": {
      "application/vnd.jupyter.widget-view+json": {
       "model_id": "a1d9eed061d84e079dc4f511a559d437",
       "version_major": 2,
       "version_minor": 0
      },
      "text/plain": [
       "  0%|          | 0/3 [00:00<?, ?it/s]"
      ]
     },
     "metadata": {},
     "output_type": "display_data"
    }
   ],
   "source": [
    "# download data\n",
    "wikidata = datasets.load_dataset(\"wikitext\", 'wikitext-2-raw-v1')"
   ]
  },
  {
   "cell_type": "code",
   "execution_count": 18,
   "id": "4d96b005",
   "metadata": {},
   "outputs": [
    {
     "data": {
      "application/vnd.jupyter.widget-view+json": {
       "model_id": "2c1fbb9653de48778a9ee4de032ca6d7",
       "version_major": 2,
       "version_minor": 0
      },
      "text/plain": [
       "Downloading:   0%|          | 0.00/29.0 [00:00<?, ?B/s]"
      ]
     },
     "metadata": {},
     "output_type": "display_data"
    },
    {
     "data": {
      "application/vnd.jupyter.widget-view+json": {
       "model_id": "dba6ebc3b7f9439ba5db2c11298f4d21",
       "version_major": 2,
       "version_minor": 0
      },
      "text/plain": [
       "Downloading:   0%|          | 0.00/411 [00:00<?, ?B/s]"
      ]
     },
     "metadata": {},
     "output_type": "display_data"
    },
    {
     "data": {
      "application/vnd.jupyter.widget-view+json": {
       "model_id": "dbcce7a08b14485595675721ebfa46bb",
       "version_major": 2,
       "version_minor": 0
      },
      "text/plain": [
       "Downloading:   0%|          | 0.00/213k [00:00<?, ?B/s]"
      ]
     },
     "metadata": {},
     "output_type": "display_data"
    },
    {
     "data": {
      "application/vnd.jupyter.widget-view+json": {
       "model_id": "970f3f8ada3b49f5b83d3973c7990338",
       "version_major": 2,
       "version_minor": 0
      },
      "text/plain": [
       "Downloading:   0%|          | 0.00/436k [00:00<?, ?B/s]"
      ]
     },
     "metadata": {},
     "output_type": "display_data"
    }
   ],
   "source": [
    "# get tokenizer\n",
    "tokenizer = AutoTokenizer.from_pretrained(\"distilbert-base-cased\")"
   ]
  },
  {
   "cell_type": "code",
   "execution_count": 65,
   "id": "f33132cb",
   "metadata": {},
   "outputs": [],
   "source": [
    "# tokenize appropriate data instance\n",
    "sequence = wikidata['train'][10]['text']\n",
    "tokenized_sequence = tokenizer(sequence, return_tensors='pt')"
   ]
  },
  {
   "cell_type": "code",
   "execution_count": 77,
   "id": "90c583a8",
   "metadata": {},
   "outputs": [
    {
     "data": {
      "text/plain": [
       "{'input_ids': tensor([[  101,  1109,  1342,   112,   188,   103,  1449,   117,  1103,   139,\n",
       "          2646,  1942,  5301,  1449,   117,  1110,  2446,  1166,  2626,  1121,\n",
       "         12226,  3781,  5132, 17758,   119,  1507,  6178,   117,  2139,  8247,\n",
       "          1296,  2587,  1606,   170,  1499,   137,   118,   137,  1205,  7281,\n",
       "          1104,  1103, 13777,  4520,   131,  1517,   170,  1959,  1110,  2700,\n",
       "           117,  1103,  1591,  5279,  1103,  1959,  1213,  1103, 13777,  1107,\n",
       "          1503,   137,   118,   137,  1825,   119,   138,  1959,  1169,  1178,\n",
       "          2496,  1517,  1679,   137,   118,   137,  1885,   117,  1133,  2650,\n",
       "          1169,  1129,  3609,  2967,  3587,  1120,  1103, 11013,  1104,  1168,\n",
       "          2650,   112,  3587,   119,  2994,  1959,  1144,   170,  1768,  1105,\n",
       "          2462,  1104,  2230,  2609,  1118,  1147,  6605,   144,  3984,  2176,\n",
       "           119,  3725,  1106,  2551,  2650,  1169,  1129,  3346,  1106,   170,\n",
       "          1423,  2862,   119,  1507, 11716,   117,  2650,  1209,  1840,  1149,\n",
       "          1191,  1380,  5940,  1106,  1172,   117,  1216,  1112,  1147,  2332,\n",
       "          1827,   113, 18444,   114,  2033,  1822,  1137,  1217,  6011,  1149,\n",
       "          1118,  3437,  3690,   119,  2994,  1959,  1144,  2747,   107, 18959,\n",
       "          5208, 16764,  1116,   107,   117,  4196,  3527,  1106,  1296,  1959,\n",
       "           119,  1220,  1132,  3233,  1154,   107, 13907, 18959,  5208, 16764,\n",
       "           107,   117,  1134,  1132, 14880,  2193,  4196,  1115,  3118,  8362,\n",
       "         23925,  4895,  4303, 26754,  1118,  1103,  1642,  1105,  1169,  1719,\n",
       "          1494,  1137, 24034, 15018,   170,  1959,   117,  1105,   107,  2651,\n",
       "         18959,  5208, 16764,  1116,   107,   117,  1134,  1132,  4215,  2032,\n",
       "          1103,  1342,  1105,  1579,  5721,   171, 17658,  1106,   170,  1959,\n",
       "           119,  1706,  3858,  2651, 18959,  5208, 16764,  1116,   117,  1296,\n",
       "          1959,  1144,   170,  3527,   107,  6935, 11389,   107,   117,   170,\n",
       "          8866,   137,   118,   137,  1359,  7864,  1952,  1115,  1169,  1129,\n",
       "          1215,  1106,  9703,  1105,  5088,  1472,  4196,   119, 23543,  1116,\n",
       "          1145,  1138,  3139,   138, 15951,  1115,  5721,  1172,  5335, 14112,\n",
       "          1116,  1113,  1103, 13777,   131,  9426,  1169, 23162,   107, 15974,\n",
       "          5059,   107,  1105,  1815,  1213,  1103, 13777,  1443,  1260,  7136,\n",
       "          1916,  1117,  6605,  4221,  7405,   117,  1103,  1959, 11336,  8009,\n",
       "          1169,  5212,  1154,  1123,   107, 12226,  3781,  3464, 15075,   107,\n",
       "          1105,  1561,  1107,  6871, 16240,   117,  1229,   146,  1306,  2599,\n",
       "          1169,  4010,  2967,  3437,  2338,  1114,  1123,  2302,  4621,   119,\n",
       "           102]]), 'attention_mask': tensor([[1, 1, 1, 1, 1, 1, 1, 1, 1, 1, 1, 1, 1, 1, 1, 1, 1, 1, 1, 1, 1, 1, 1, 1,\n",
       "         1, 1, 1, 1, 1, 1, 1, 1, 1, 1, 1, 1, 1, 1, 1, 1, 1, 1, 1, 1, 1, 1, 1, 1,\n",
       "         1, 1, 1, 1, 1, 1, 1, 1, 1, 1, 1, 1, 1, 1, 1, 1, 1, 1, 1, 1, 1, 1, 1, 1,\n",
       "         1, 1, 1, 1, 1, 1, 1, 1, 1, 1, 1, 1, 1, 1, 1, 1, 1, 1, 1, 1, 1, 1, 1, 1,\n",
       "         1, 1, 1, 1, 1, 1, 1, 1, 1, 1, 1, 1, 1, 1, 1, 1, 1, 1, 1, 1, 1, 1, 1, 1,\n",
       "         1, 1, 1, 1, 1, 1, 1, 1, 1, 1, 1, 1, 1, 1, 1, 1, 1, 1, 1, 1, 1, 1, 1, 1,\n",
       "         1, 1, 1, 1, 1, 1, 1, 1, 1, 1, 1, 1, 1, 1, 1, 1, 1, 1, 1, 1, 1, 1, 1, 1,\n",
       "         1, 1, 1, 1, 1, 1, 1, 1, 1, 1, 1, 1, 1, 1, 1, 1, 1, 1, 1, 1, 1, 1, 1, 1,\n",
       "         1, 1, 1, 1, 1, 1, 1, 1, 1, 1, 1, 1, 1, 1, 1, 1, 1, 1, 1, 1, 1, 1, 1, 1,\n",
       "         1, 1, 1, 1, 1, 1, 1, 1, 1, 1, 1, 1, 1, 1, 1, 1, 1, 1, 1, 1, 1, 1, 1, 1,\n",
       "         1, 1, 1, 1, 1, 1, 1, 1, 1, 1, 1, 1, 1, 1, 1, 1, 1, 1, 1, 1, 1, 1, 1, 1,\n",
       "         1, 1, 1, 1, 1, 1, 1, 1, 1, 1, 1, 1, 1, 1, 1, 1, 1, 1, 1, 1, 1, 1, 1, 1,\n",
       "         1, 1, 1, 1, 1, 1, 1, 1, 1, 1, 1, 1, 1, 1, 1, 1, 1, 1, 1, 1, 1, 1, 1, 1,\n",
       "         1, 1, 1, 1, 1, 1, 1, 1, 1, 1, 1, 1, 1, 1, 1, 1, 1, 1, 1, 1, 1, 1, 1, 1,\n",
       "         1, 1, 1, 1, 1]])}"
      ]
     },
     "execution_count": 77,
     "metadata": {},
     "output_type": "execute_result"
    }
   ],
   "source": [
    "# mask out token at index 5\n",
    "tokenized_sequence['input_ids'][0][5] = tokenizer.mask_token_id"
   ]
  },
  {
   "cell_type": "code",
   "execution_count": 48,
   "id": "cdaaed58",
   "metadata": {},
   "outputs": [
    {
     "data": {
      "application/vnd.jupyter.widget-view+json": {
       "model_id": "9e7c7f3f3ed742718545072b452eb869",
       "version_major": 2,
       "version_minor": 0
      },
      "text/plain": [
       "Downloading:   0%|          | 0.00/263M [00:00<?, ?B/s]"
      ]
     },
     "metadata": {},
     "output_type": "display_data"
    }
   ],
   "source": [
    "# download model \n",
    "model = AutoModelForMaskedLM.from_pretrained(\"distilbert-base-cased\")"
   ]
  },
  {
   "cell_type": "code",
   "execution_count": 81,
   "id": "e21173ce",
   "metadata": {},
   "outputs": [],
   "source": [
    "# pass sequence to model\n",
    "output = model(**tokenized_sequence)"
   ]
  },
  {
   "cell_type": "code",
   "execution_count": 82,
   "id": "bdc32293",
   "metadata": {},
   "outputs": [],
   "source": [
    "# get probabilities for masked token\n",
    "mask_logits = output.logits[0, 5]"
   ]
  },
  {
   "cell_type": "code",
   "execution_count": 88,
   "id": "58ce60a7",
   "metadata": {},
   "outputs": [],
   "source": [
    "# take argmax to get most likely token ID\n",
    "top_token_id = mask_logits.argmax()"
   ]
  },
  {
   "cell_type": "code",
   "execution_count": 94,
   "id": "b70d1a34",
   "metadata": {},
   "outputs": [
    {
     "name": "stdout",
     "output_type": "stream",
     "text": [
      "Most likely token for mask is combat\n"
     ]
    }
   ],
   "source": [
    "# decode\n",
    "top_token = tokenizer.decode(top_token_id)\n",
    "print(\"Most likely token for mask is\", top_token)"
   ]
  },
  {
   "cell_type": "code",
   "execution_count": 96,
   "id": "526a302c",
   "metadata": {},
   "outputs": [],
   "source": [
    "masked_sequence = ' The game \\'s [MASK] system , the BliTZ system , is carried over directly from Valkyira Chronicles . During missions , players select each unit using a top @-@ down perspective of the battlefield map : once a character is selected , the player moves the character around the battlefield in third @-@ person . A character can only act once per @-@ turn , but characters can be granted multiple turns at the expense of other characters \\' turns . Each character has a field and distance of movement limited by their Action Gauge . Up to nine characters can be assigned to a single mission . During gameplay , characters will call out if something happens to them , such as their health points ( HP ) getting low or being knocked out by enemy attacks . Each character has specific \" Potentials \" , skills unique to each character . They are divided into \" Personal Potential \" , which are innate skills that remain unaltered unless otherwise dictated by the story and can either help or impede a character , and \" Battle Potentials \" , which are grown throughout the game and always grant boons to a character . To learn Battle Potentials , each character has a unique \" Masters Table \" , a grid @-@ based skill table that can be used to acquire and link different skills . Characters also have Special Abilities that grant them temporary boosts on the battlefield : Kurt can activate \" Direct Command \" and move around the battlefield without depleting his Action Point gauge , the character Reila can shift into her \" Valkyria Form \" and become invincible , while Imca can target multiple enemy units with her heavy weapon . \\n'"
   ]
  },
  {
   "cell_type": "code",
   "execution_count": 97,
   "id": "938ed657",
   "metadata": {},
   "outputs": [
    {
     "data": {
      "text/plain": [
       "[{'score': 0.13662149012088776,\n",
       "  'token': 4127,\n",
       "  'token_str': 'combat',\n",
       "  'sequence': 'The game\\'s combat system, the BliTZ system, is carried over directly from Valkyira Chronicles. During missions, players select each unit using a top @ - @ down perspective of the battlefield map : once a character is selected, the player moves the character around the battlefield in third @ - @ person. A character can only act once per @ - @ turn, but characters can be granted multiple turns at the expense of other characters\\'turns. Each character has a field and distance of movement limited by their Action Gauge. Up to nine characters can be assigned to a single mission. During gameplay, characters will call out if something happens to them, such as their health points ( HP ) getting low or being knocked out by enemy attacks. Each character has specific \" Potentials \", skills unique to each character. They are divided into \" Personal Potential \", which are innate skills that remain unaltered unless otherwise dictated by the story and can either help or impede a character, and \" Battle Potentials \", which are grown throughout the game and always grant boons to a character. To learn Battle Potentials, each character has a unique \" Masters Table \", a grid @ - @ based skill table that can be used to acquire and link different skills. Characters also have Special Abilities that grant them temporary boosts on the battlefield : Kurt can activate \" Direct Command \" and move around the battlefield without depleting his Action Point gauge, the character Reila can shift into her \" Valkyria Form \" and become invincible, while Imca can target multiple enemy units with her heavy weapon.'},\n",
       " {'score': 0.0637420266866684,\n",
       "  'token': 4621,\n",
       "  'token_str': 'weapon',\n",
       "  'sequence': 'The game\\'s weapon system, the BliTZ system, is carried over directly from Valkyira Chronicles. During missions, players select each unit using a top @ - @ down perspective of the battlefield map : once a character is selected, the player moves the character around the battlefield in third @ - @ person. A character can only act once per @ - @ turn, but characters can be granted multiple turns at the expense of other characters\\'turns. Each character has a field and distance of movement limited by their Action Gauge. Up to nine characters can be assigned to a single mission. During gameplay, characters will call out if something happens to them, such as their health points ( HP ) getting low or being knocked out by enemy attacks. Each character has specific \" Potentials \", skills unique to each character. They are divided into \" Personal Potential \", which are innate skills that remain unaltered unless otherwise dictated by the story and can either help or impede a character, and \" Battle Potentials \", which are grown throughout the game and always grant boons to a character. To learn Battle Potentials, each character has a unique \" Masters Table \", a grid @ - @ based skill table that can be used to acquire and link different skills. Characters also have Special Abilities that grant them temporary boosts on the battlefield : Kurt can activate \" Direct Command \" and move around the battlefield without depleting his Action Point gauge, the character Reila can shift into her \" Valkyria Form \" and become invincible, while Imca can target multiple enemy units with her heavy weapon.'},\n",
       " {'score': 0.03623514994978905,\n",
       "  'token': 2321,\n",
       "  'token_str': 'battle',\n",
       "  'sequence': 'The game\\'s battle system, the BliTZ system, is carried over directly from Valkyira Chronicles. During missions, players select each unit using a top @ - @ down perspective of the battlefield map : once a character is selected, the player moves the character around the battlefield in third @ - @ person. A character can only act once per @ - @ turn, but characters can be granted multiple turns at the expense of other characters\\'turns. Each character has a field and distance of movement limited by their Action Gauge. Up to nine characters can be assigned to a single mission. During gameplay, characters will call out if something happens to them, such as their health points ( HP ) getting low or being knocked out by enemy attacks. Each character has specific \" Potentials \", skills unique to each character. They are divided into \" Personal Potential \", which are innate skills that remain unaltered unless otherwise dictated by the story and can either help or impede a character, and \" Battle Potentials \", which are grown throughout the game and always grant boons to a character. To learn Battle Potentials, each character has a unique \" Masters Table \", a grid @ - @ based skill table that can be used to acquire and link different skills. Characters also have Special Abilities that grant them temporary boosts on the battlefield : Kurt can activate \" Direct Command \" and move around the battlefield without depleting his Action Point gauge, the character Reila can shift into her \" Valkyria Form \" and become invincible, while Imca can target multiple enemy units with her heavy weapon.'},\n",
       " {'score': 0.02482660487294197,\n",
       "  'token': 5662,\n",
       "  'token_str': 'ranking',\n",
       "  'sequence': 'The game\\'s ranking system, the BliTZ system, is carried over directly from Valkyira Chronicles. During missions, players select each unit using a top @ - @ down perspective of the battlefield map : once a character is selected, the player moves the character around the battlefield in third @ - @ person. A character can only act once per @ - @ turn, but characters can be granted multiple turns at the expense of other characters\\'turns. Each character has a field and distance of movement limited by their Action Gauge. Up to nine characters can be assigned to a single mission. During gameplay, characters will call out if something happens to them, such as their health points ( HP ) getting low or being knocked out by enemy attacks. Each character has specific \" Potentials \", skills unique to each character. They are divided into \" Personal Potential \", which are innate skills that remain unaltered unless otherwise dictated by the story and can either help or impede a character, and \" Battle Potentials \", which are grown throughout the game and always grant boons to a character. To learn Battle Potentials, each character has a unique \" Masters Table \", a grid @ - @ based skill table that can be used to acquire and link different skills. Characters also have Special Abilities that grant them temporary boosts on the battlefield : Kurt can activate \" Direct Command \" and move around the battlefield without depleting his Action Point gauge, the character Reila can shift into her \" Valkyria Form \" and become invincible, while Imca can target multiple enemy units with her heavy weapon.'},\n",
       " {'score': 0.02104051783680916,\n",
       "  'token': 14952,\n",
       "  'token_str': 'inventory',\n",
       "  'sequence': 'The game\\'s inventory system, the BliTZ system, is carried over directly from Valkyira Chronicles. During missions, players select each unit using a top @ - @ down perspective of the battlefield map : once a character is selected, the player moves the character around the battlefield in third @ - @ person. A character can only act once per @ - @ turn, but characters can be granted multiple turns at the expense of other characters\\'turns. Each character has a field and distance of movement limited by their Action Gauge. Up to nine characters can be assigned to a single mission. During gameplay, characters will call out if something happens to them, such as their health points ( HP ) getting low or being knocked out by enemy attacks. Each character has specific \" Potentials \", skills unique to each character. They are divided into \" Personal Potential \", which are innate skills that remain unaltered unless otherwise dictated by the story and can either help or impede a character, and \" Battle Potentials \", which are grown throughout the game and always grant boons to a character. To learn Battle Potentials, each character has a unique \" Masters Table \", a grid @ - @ based skill table that can be used to acquire and link different skills. Characters also have Special Abilities that grant them temporary boosts on the battlefield : Kurt can activate \" Direct Command \" and move around the battlefield without depleting his Action Point gauge, the character Reila can shift into her \" Valkyria Form \" and become invincible, while Imca can target multiple enemy units with her heavy weapon.'}]"
      ]
     },
     "execution_count": 97,
     "metadata": {},
     "output_type": "execute_result"
    }
   ],
   "source": [
    "# can also do the same thing with the fill-mask pipeline\n",
    "\n",
    "filler = pipeline('fill-mask', model='distilbert-base-cased')\n",
    "filler(masked_sequence)"
   ]
  },
  {
   "cell_type": "code",
   "execution_count": null,
   "id": "6eef76d4",
   "metadata": {},
   "outputs": [],
   "source": []
  }
 ],
 "metadata": {
  "kernelspec": {
   "display_name": "Python 3 (ipykernel)",
   "language": "python",
   "name": "python3"
  },
  "language_info": {
   "codemirror_mode": {
    "name": "ipython",
    "version": 3
   },
   "file_extension": ".py",
   "mimetype": "text/x-python",
   "name": "python",
   "nbconvert_exporter": "python",
   "pygments_lexer": "ipython3",
   "version": "3.9.6"
  }
 },
 "nbformat": 4,
 "nbformat_minor": 5
}
